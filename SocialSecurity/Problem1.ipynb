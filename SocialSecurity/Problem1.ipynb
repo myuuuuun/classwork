{
 "metadata": {
  "name": "",
  "signature": "sha256:d09cb8605b0283a37578d50f80db2d3bc3f210225dfeb1689b5323feb5074602"
 },
 "nbformat": 3,
 "nbformat_minor": 0,
 "worksheets": [
  {
   "cells": [
    {
     "cell_type": "markdown",
     "metadata": {},
     "source": [
      "# \u793e\u4f1a\u4fdd\u969c\u3000\u7df4\u7fd2\u554f\u984c\uff08\uff11\uff09"
     ]
    },
    {
     "cell_type": "code",
     "collapsed": false,
     "input": [],
     "language": "python",
     "metadata": {},
     "outputs": []
    }
   ],
   "metadata": {}
  }
 ]
}